{
  "nbformat": 4,
  "nbformat_minor": 0,
  "metadata": {
    "colab": {
      "provenance": [],
      "gpuType": "T4",
      "authorship_tag": "ABX9TyOFzX00dOYMpm8tG+D0Vqwx",
      "include_colab_link": true
    },
    "kernelspec": {
      "name": "python3",
      "display_name": "Python 3"
    },
    "language_info": {
      "name": "python"
    },
    "accelerator": "GPU"
  },
  "cells": [
    {
      "cell_type": "markdown",
      "metadata": {
        "id": "view-in-github",
        "colab_type": "text"
      },
      "source": [
        "<a href=\"https://colab.research.google.com/github/yukinaga/ai_voice_writing/blob/main/section_1/01_try_whisper.ipynb\" target=\"_parent\"><img src=\"https://colab.research.google.com/assets/colab-badge.svg\" alt=\"Open In Colab\"/></a>"
      ]
    },
    {
      "cell_type": "markdown",
      "source": [
        "# Whisperを使ってみよう！\n",
        "Whisperをインストールし、音声データを文字起こしします。  "
      ],
      "metadata": {
        "id": "ek1FW6pNK6M4"
      }
    },
    {
      "cell_type": "markdown",
      "source": [
        "## Whisperのインストール\n",
        "「pip」コマンドを使い、Whisperをインストールします。"
      ],
      "metadata": {
        "id": "MQz0MRBkLcDA"
      }
    },
    {
      "cell_type": "code",
      "source": [
        "!pip install git+https://github.com/openai/whisper.git"
      ],
      "metadata": {
        "id": "nnzcQIXZ8Xt_"
      },
      "execution_count": null,
      "outputs": []
    },
    {
      "cell_type": "markdown",
      "source": [
        "## Whisperによる文字起こし\n",
        "ファイル「sample_voice.m4a」をノートブック上にアップロードした上で、以下のコードを実行します。  \n",
        "音声データが文字に変換されることを確認します。"
      ],
      "metadata": {
        "id": "FFmDy-OiM4SC"
      }
    },
    {
      "cell_type": "code",
      "source": [
        "import whisper\n",
        "\n",
        "file_name = \"sample_voice.m4a\"\n",
        "lang = \"ja\"\n",
        "model = whisper.load_model(\"base\")\n",
        "\n",
        "# 音声データの読み込み\n",
        "audio = whisper.load_audio(file_name)\n",
        "audio = whisper.pad_or_trim(audio)\n",
        "\n",
        "# 音響特徴量の計算\n",
        "mel = whisper.log_mel_spectrogram(audio).cuda()\n",
        "\n",
        "# 音声データの文字起こし\n",
        "options = whisper.DecodingOptions(language=lang, without_timestamps=True)\n",
        "result = whisper.decode(model, mel, options)\n",
        "print(result.text)\n",
        "\n",
        "# 結果をファイルに書き込む\n",
        "with open(\"sample_voice.txt\", \"w\") as f:\n",
        "    f.write(result.text)"
      ],
      "metadata": {
        "id": "SZJDd-mI8lX_"
      },
      "execution_count": null,
      "outputs": []
    }
  ]
}