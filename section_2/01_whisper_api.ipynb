{
  "nbformat": 4,
  "nbformat_minor": 0,
  "metadata": {
    "colab": {
      "provenance": [],
      "authorship_tag": "ABX9TyP6K+ux0KfG6F19zeJKcy40",
      "include_colab_link": true
    },
    "kernelspec": {
      "name": "python3",
      "display_name": "Python 3"
    },
    "language_info": {
      "name": "python"
    }
  },
  "cells": [
    {
      "cell_type": "markdown",
      "metadata": {
        "id": "view-in-github",
        "colab_type": "text"
      },
      "source": [
        "<a href=\"https://colab.research.google.com/github/yukinaga/ai_voice_writing/blob/main/section_2/01_whisper_api.ipynb\" target=\"_parent\"><img src=\"https://colab.research.google.com/assets/colab-badge.svg\" alt=\"Open In Colab\"/></a>"
      ]
    },
    {
      "cell_type": "markdown",
      "source": [
        "# Whisper APIを使ってみよう！\n",
        "\n",
        "Whisper APIを体験します。  \n",
        "API keyを設定し、Whisper APIからのレスポンスを取得してみましょう。  \n",
        "なお、APIの利用は有料になりますので、決済手段の登録が必要になります。.  \n",
        "決済手段を登録しないままコードを実行するとエラーになります。  "
      ],
      "metadata": {
        "id": "NJ0ypAO3Nd9n"
      }
    },
    {
      "cell_type": "markdown",
      "source": [
        "## ライブラリのインストール\n",
        "Whisper APIを使用するために必要なライブラリ、openaiをインストールします。  "
      ],
      "metadata": {
        "id": "rohh9-kEV-8q"
      }
    },
    {
      "cell_type": "code",
      "execution_count": null,
      "metadata": {
        "id": "Wo66c8k56kai"
      },
      "outputs": [],
      "source": [
        "!pip install openai"
      ]
    },
    {
      "cell_type": "markdown",
      "source": [
        "インストールの完了後、openaiをインポートしておきます。"
      ],
      "metadata": {
        "id": "yykE6v-ziwa3"
      }
    },
    {
      "cell_type": "code",
      "source": [
        "import openai"
      ],
      "metadata": {
        "id": "ImCUT-lW6k6K"
      },
      "execution_count": null,
      "outputs": []
    },
    {
      "cell_type": "markdown",
      "source": [
        "## API Keyの設定\n",
        "Whisper APIを使用するために必要な「API key」を設定します。  \n",
        "以下のコードの、  \n",
        "`openai.api_key = \"Your API key\"`  \n",
        "における  \n",
        "`Your API key`の箇所を、自分のAPI keyに置き換えます。  \n",
        "OpenAIのAPI keyは、OpenAIのサイトで取得できます。   \n",
        "https://platform.openai.com/account/api-keys\n"
      ],
      "metadata": {
        "id": "j03EsJaHh4KK"
      }
    },
    {
      "cell_type": "code",
      "source": [
        "openai.api_key = \"Your API key\""
      ],
      "metadata": {
        "id": "4lkJr3dk89bD"
      },
      "execution_count": null,
      "outputs": []
    },
    {
      "cell_type": "markdown",
      "source": [
        "API keyの流出にはリスクがあります。  \n",
        "他者に知られないように、慎重に扱ってください。"
      ],
      "metadata": {
        "id": "2lEUNEp9n95k"
      }
    },
    {
      "cell_type": "markdown",
      "source": [
        "## 音声ファイルのアップロード\n",
        "画面左の「ファイル」に、mp3、mp4、mpeg、mpga、m4a、wavもしくはwebm形式の音声ファイルをアップロードします。  \n",
        "ファイルサイズの上限は25MBです。  \n",
        "以下のフォームには、アップロードしたファイル名を記述します。"
      ],
      "metadata": {
        "id": "bdrxwY87hTCj"
      }
    },
    {
      "cell_type": "code",
      "source": [
        "file_name = \"sample_speech.m4a\" # @param {type:\"string\"}"
      ],
      "metadata": {
        "cellView": "form",
        "id": "AoY2pQ1hhcX7"
      },
      "execution_count": null,
      "outputs": []
    },
    {
      "cell_type": "markdown",
      "source": [
        "## レスポンスの取得\n",
        "`openai.Audio.transcribe()`により、Whisper APIからのレスポンスを取得します。  \n",
        "その際に、モデルに「whisper-1」を指定します。  \n"
      ],
      "metadata": {
        "id": "jomNHjE3lPAJ"
      }
    },
    {
      "cell_type": "code",
      "source": [
        "import openai\n",
        "\n",
        "audio_file= open(\"sample_speech.m4a\", \"rb\")\n",
        "transcript = openai.Audio.transcribe(\"whisper-1\", audio_file)\n",
        "\n",
        "transcript.text"
      ],
      "metadata": {
        "id": "nkswVM4r9BBt"
      },
      "execution_count": null,
      "outputs": []
    },
    {
      "cell_type": "markdown",
      "source": [
        "Whisper APIからのレスポンスを取得することができました。  \n",
        "\n",
        "上記のコードの実行後、OpenAIのサイトでAPIの使用量を確認してみましょう。  \n",
        "https://platform.openai.com/account/usage"
      ],
      "metadata": {
        "id": "B8hdFAd6VIaz"
      }
    },
    {
      "cell_type": "markdown",
      "source": [
        "## promptの設定\n",
        "「prompt」の設定次第で、文字起こしのスタイルが変化します。  \n",
        "Whisper APIは、promptのスタイルに合わせようとします。  \n",
        "例えば、プロンプトが大文字と句読点を使用していないと、生成されたテキストで大文字と句読点が使用されない可能性が高くなります。    \n"
      ],
      "metadata": {
        "id": "d2W4bMwyS1CQ"
      }
    },
    {
      "cell_type": "code",
      "source": [
        "import openai\n",
        "\n",
        "audio_file= open(\"sample_speech.m4a\", \"rb\")\n",
        "transcript = openai.Audio.transcribe(\"whisper-1\", audio_file, prompt=\"本日は晴天だ 明日は雨の可能性が高い そうに違いない\")\n",
        "\n",
        "transcript.text"
      ],
      "metadata": {
        "id": "elIctVWuS1CR"
      },
      "execution_count": null,
      "outputs": []
    },
    {
      "cell_type": "markdown",
      "source": [
        "## temperatureの設定\n",
        "「temperature」は返答のランダムさを司ります。  \n",
        "0から1の間で設定できて、0に近づくほど決定論的になります。"
      ],
      "metadata": {
        "id": "ICFqpi8vQHoL"
      }
    },
    {
      "cell_type": "code",
      "source": [
        "import openai\n",
        "\n",
        "audio_file= open(\"sample_speech.m4a\", \"rb\")\n",
        "transcript = openai.Audio.transcribe(\"whisper-1\", audio_file, temperature=0.8)\n",
        "\n",
        "transcript.text"
      ],
      "metadata": {
        "id": "GMnrBpR2QHoL"
      },
      "execution_count": null,
      "outputs": []
    }
  ]
}