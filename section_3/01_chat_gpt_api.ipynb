{
  "nbformat": 4,
  "nbformat_minor": 0,
  "metadata": {
    "colab": {
      "provenance": [],
      "authorship_tag": "ABX9TyMdWPx6Vk+fTYHuXwErUPMV",
      "include_colab_link": true
    },
    "kernelspec": {
      "name": "python3",
      "display_name": "Python 3"
    },
    "language_info": {
      "name": "python"
    }
  },
  "cells": [
    {
      "cell_type": "markdown",
      "metadata": {
        "id": "view-in-github",
        "colab_type": "text"
      },
      "source": [
        "<a href=\"https://colab.research.google.com/github/yukinaga/ai_voice_writing/blob/main/section_3/01_chat_gpt_api.ipynb\" target=\"_parent\"><img src=\"https://colab.research.google.com/assets/colab-badge.svg\" alt=\"Open In Colab\"/></a>"
      ]
    },
    {
      "cell_type": "markdown",
      "source": [
        "# ChatGPT APIを使ってみよう！\n",
        "\n",
        "ChatGPT APIを体験します。  \n",
        "API keyを設定し、Chat GPT APIからのレスポンスを取得してみましょう。  \n",
        "なお、APIの利用は有料になりますので、決済手段の登録が必要になります。.  \n",
        "決済手段を登録しないままコードを実行するとエラーになります。  "
      ],
      "metadata": {
        "id": "NJ0ypAO3Nd9n"
      }
    },
    {
      "cell_type": "markdown",
      "source": [
        "## ライブラリのインストール\n",
        "ChatGPT APIを使用するために必要なライブラリ、openaiをインストールします。  "
      ],
      "metadata": {
        "id": "rohh9-kEV-8q"
      }
    },
    {
      "cell_type": "code",
      "execution_count": null,
      "metadata": {
        "id": "Wo66c8k56kai"
      },
      "outputs": [],
      "source": [
        "!pip install \"openai<1.0.0\""
      ]
    },
    {
      "cell_type": "markdown",
      "source": [
        "インストールの完了後、openaiをインポートしておきます。"
      ],
      "metadata": {
        "id": "yykE6v-ziwa3"
      }
    },
    {
      "cell_type": "code",
      "source": [
        "import openai"
      ],
      "metadata": {
        "id": "ImCUT-lW6k6K"
      },
      "execution_count": null,
      "outputs": []
    },
    {
      "cell_type": "markdown",
      "source": [
        "## API Keyの設定\n",
        "ChatGPT APIを使用するために必要な「API key」を設定します。  \n",
        "以下のコードの、  \n",
        "`openai.api_key = \"Your API key\"`  \n",
        "における  \n",
        "`Your API key`の箇所を、自分のAPI keyに置き換えます。  \n",
        "ChatGPTのAPI keyは、OpenAIのサイトで取得できます。   \n",
        "https://platform.openai.com/account/api-keys\n"
      ],
      "metadata": {
        "id": "j03EsJaHh4KK"
      }
    },
    {
      "cell_type": "code",
      "source": [
        "openai.api_key = \"Your API key\""
      ],
      "metadata": {
        "id": "4lkJr3dk89bD"
      },
      "execution_count": null,
      "outputs": []
    },
    {
      "cell_type": "markdown",
      "source": [
        "API keyの流出にはリスクがあります。  \n",
        "他者に知られないように、慎重に扱ってください。"
      ],
      "metadata": {
        "id": "2lEUNEp9n95k"
      }
    },
    {
      "cell_type": "markdown",
      "source": [
        "## チャットボットの設定\n",
        "チャットボットの設定を文章で設定します。"
      ],
      "metadata": {
        "id": "NT7CHc95EnTG"
      }
    },
    {
      "cell_type": "code",
      "source": [
        "system_message = \"あなたは優秀な英語教師です。\""
      ],
      "metadata": {
        "id": "RDeJuD9NEq8D"
      },
      "execution_count": null,
      "outputs": []
    },
    {
      "cell_type": "markdown",
      "source": [
        "## ユーザーのメッセージを設定\n",
        "ChatGPTに送るメッセージを設定します。"
      ],
      "metadata": {
        "id": "ithkx79JFyXf"
      }
    },
    {
      "cell_type": "code",
      "source": [
        "user_message = \"あなたはどんなことができますか？\""
      ],
      "metadata": {
        "id": "MV-0VjSMGrIu"
      },
      "execution_count": null,
      "outputs": []
    },
    {
      "cell_type": "markdown",
      "source": [
        "## レスポンスの取得\n",
        "`openai.ChatCompletion.create()`により、ChatGPT APIからのレスポンスを取得します。  \n",
        "その際に、モデルを指定してメッセージを送ります。  \n",
        "なお、GPT-4のモデルを使用する場合は、$1以上支払いした実績が必要になります。  \n",
        "https://help.openai.com/en/articles/7102672-how-can-i-access-gpt-4\n"
      ],
      "metadata": {
        "id": "jomNHjE3lPAJ"
      }
    },
    {
      "cell_type": "code",
      "source": [
        "# ChatGPT APIからのレスポンスを取得する\n",
        "response = openai.ChatCompletion.create(\n",
        "    model=\"gpt-3.5-turbo\",  # gpt-3.5-turbo-16k、gpt-4、gpt-4-32kなども設定可\n",
        "    messages=[\n",
        "        {\"role\": \"system\", \"content\": system_message},\n",
        "        {\"role\": \"user\", \"content\": user_message}\n",
        "        ]\n",
        ")\n",
        "\n",
        "# レスポンスの表示\n",
        "print(response['choices'][0]['message']['content'])"
      ],
      "metadata": {
        "id": "nkswVM4r9BBt"
      },
      "execution_count": null,
      "outputs": []
    },
    {
      "cell_type": "markdown",
      "source": [
        "ChatGPT APIからのレスポンスを取得することができました。  \n",
        "\n",
        "上記のコードの実行後、OpenAIのサイトでAPIの使用量を確認してみましょう。  \n",
        "https://platform.openai.com/account/usage\n",
        "\n",
        "なお、利用可能なモデルの一覧は以下に掲載されています。  \n",
        "https://platform.openai.com/docs/models/  "
      ],
      "metadata": {
        "id": "B8hdFAd6VIaz"
      }
    }
  ]
}