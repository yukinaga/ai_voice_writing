{
  "nbformat": 4,
  "nbformat_minor": 0,
  "metadata": {
    "colab": {
      "provenance": [],
      "authorship_tag": "ABX9TyPfoWJNKwNhoLjbolaQs+Wx",
      "include_colab_link": true
    },
    "kernelspec": {
      "name": "python3",
      "display_name": "Python 3"
    },
    "language_info": {
      "name": "python"
    }
  },
  "cells": [
    {
      "cell_type": "markdown",
      "metadata": {
        "id": "view-in-github",
        "colab_type": "text"
      },
      "source": [
        "<a href=\"https://colab.research.google.com/github/yukinaga/ai_voice_writing/blob/main/section_4/03_articles.ipynb\" target=\"_parent\"><img src=\"https://colab.research.google.com/assets/colab-badge.svg\" alt=\"Open In Colab\"/></a>"
      ]
    },
    {
      "cell_type": "markdown",
      "source": [
        "#  記事の作成\n",
        "\n",
        "Whisper APIとChatGPT APIの連携により、音声記録からブログ記事を作成します。"
      ],
      "metadata": {
        "id": "NJ0ypAO3Nd9n"
      }
    },
    {
      "cell_type": "markdown",
      "source": [
        "## ライブラリのインストール\n",
        "Whisper APIを使用するために必要なライブラリ、openaiをインストールします。  "
      ],
      "metadata": {
        "id": "rohh9-kEV-8q"
      }
    },
    {
      "cell_type": "code",
      "execution_count": null,
      "metadata": {
        "id": "Wo66c8k56kai"
      },
      "outputs": [],
      "source": [
        "!pip install \"openai<1.0.0\""
      ]
    },
    {
      "cell_type": "markdown",
      "source": [
        "## API Keyの設定\n",
        "Whisper APIを使用するために必要な「API key」を設定します。  \n",
        "以下のコードの、  \n",
        "`openai.api_key = \"Your API key\"`  \n",
        "における  \n",
        "`Your API key`の箇所を、自分のAPI keyに置き換えます。  \n",
        "OpenAIのAPI keyは、OpenAIのサイトで取得できます。   \n",
        "https://platform.openai.com/account/api-keys\n"
      ],
      "metadata": {
        "id": "j03EsJaHh4KK"
      }
    },
    {
      "cell_type": "code",
      "source": [
        "import openai\n",
        "\n",
        "openai.api_key = \"Your API key\""
      ],
      "metadata": {
        "id": "4lkJr3dk89bD"
      },
      "execution_count": null,
      "outputs": []
    },
    {
      "cell_type": "markdown",
      "source": [
        "API keyの流出にはリスクがあります。  \n",
        "他者に知られないように、慎重に扱ってください。"
      ],
      "metadata": {
        "id": "2lEUNEp9n95k"
      }
    },
    {
      "cell_type": "markdown",
      "source": [
        "## 音声ファイルのアップロード\n",
        "画面左の「ファイル」に、mp3、mp4、mpeg、mpga、m4a、wavもしくはwebm形式の音声ファイルをアップロードします。  \n",
        "ファイルサイズの上限は25MBです。  \n",
        "以下のフォームには、アップロードしたファイル名を記述します。"
      ],
      "metadata": {
        "id": "bdrxwY87hTCj"
      }
    },
    {
      "cell_type": "code",
      "source": [
        "file_name = \"sample_ramen.m4a\" # @param {type:\"string\"}"
      ],
      "metadata": {
        "id": "AoY2pQ1hhcX7"
      },
      "execution_count": null,
      "outputs": []
    },
    {
      "cell_type": "markdown",
      "source": [
        "## ChatGPTの設定\n",
        "ChatGPTに依頼すべき内容を記述します。  \n",
        "今回は、内容をブログ記事にまとめるプロンプトを記述します。"
      ],
      "metadata": {
        "id": "NT7CHc95EnTG"
      }
    },
    {
      "cell_type": "code",
      "source": [
        "system_message = '''\n",
        "以下の要件に基づき、口頭の説明をベースにブログ記事を書いてください。\n",
        "\n",
        "【要件】\n",
        "* です/ます調で書く。\n",
        "* 具体的に描写する。\n",
        "* 内容を膨らませ、読者の興味を促す。\n",
        "* 読者の行動を促す。\n",
        "\n",
        "それでは、以下の口頭による説明をベースに記事を書いてください。\n",
        "'''"
      ],
      "metadata": {
        "id": "RDeJuD9NEq8D"
      },
      "execution_count": null,
      "outputs": []
    },
    {
      "cell_type": "markdown",
      "source": [
        "## ブログ記事の作成\n",
        "Whisper APTとChatGPT APIを使い、ブログ記事を作成します。  \n",
        "文字起こしの結果と作成した記事は、それぞれファイルに書き込みます。\n"
      ],
      "metadata": {
        "id": "jomNHjE3lPAJ"
      }
    },
    {
      "cell_type": "code",
      "source": [
        "import openai\n",
        "\n",
        "audio_file= open(file_name, \"rb\")\n",
        "\n",
        "# Whisper APIからのレスポンスを取得する\n",
        "transcript = openai.Audio.transcribe(\"whisper-1\", audio_file)\n",
        "\n",
        "# 結果をファイルに書き込む\n",
        "with open(\"transcript.txt\", \"w\") as f:\n",
        "    f.write(transcript.text)\n",
        "\n",
        "user_message = transcript.text\n",
        "\n",
        "# ChatGPT APIからのレスポンスを取得する\n",
        "response = openai.ChatCompletion.create(\n",
        "    model=\"gpt-3.5-turbo\",\n",
        "    messages=[\n",
        "        {\"role\": \"system\", \"content\": system_message},\n",
        "        {\"role\": \"user\", \"content\": user_message}\n",
        "        ]\n",
        ")\n",
        "res_text = response['choices'][0]['message']['content']\n",
        "\n",
        "# レスポンスの表示\n",
        "print(res_text)\n",
        "\n",
        "# 結果をファイルに書き込む\n",
        "with open(\"article.txt\", \"w\") as f:\n",
        "    f.write(res_text)"
      ],
      "metadata": {
        "id": "nkswVM4r9BBt"
      },
      "execution_count": null,
      "outputs": []
    },
    {
      "cell_type": "markdown",
      "source": [
        "ブログ記事を作成することができました。  \n",
        "\n",
        "上記のコードの実行後、OpenAIのサイトでAPIの使用量を確認してみましょう。  \n",
        "https://platform.openai.com/account/usage"
      ],
      "metadata": {
        "id": "vzOIuBi2cEwP"
      }
    }
  ]
}